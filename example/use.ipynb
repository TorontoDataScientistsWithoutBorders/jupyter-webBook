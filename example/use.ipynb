{
 "cells": [
  {
   "cell_type": "markdown",
   "metadata": {},
   "source": [
    "# Usage\n",
    "\n",
    "## Produce book content\n",
    "\n",
    "One Jupyter Notebook per chapter, just like you always do.\n",
    "\n",
    "## Formatting conventions\n",
    "\n",
    "Every chapter must start with a markdown Title 1 (`# title of the chapter`) element. This title is used for the table of contents.\n",
    "\n",
    "\n",
    "## The `_book.json` file\n",
    "\n",
    "You must add a `_book.json` file in the directory that contains your notebooks. This file provides the chapters to include in the book and their order.\n",
    "\n",
    "The file must have a structure as follows:\n",
    "\n",
    "`\n",
    "{\n",
    "\"title\": \"Title of the notebook\", \n",
    "\"files\": [\n",
    "        \"firstChapter.ipynb\",\n",
    "        \"secondChapter.ipynb\",\n",
    "        \"thirdChapter.ipynb\"\n",
    "    ],\n",
    "\"assets\": \"img\"}\n",
    "`\n",
    "\n",
    "## Compile the site\n",
    "\n",
    "`cd` to the directory containing your notebooks and the `_book.json` file, and run. \n",
    "\n",
    "`\n",
    "nb2book\n",
    "`\n",
    "\n",
    "Your site will be compiled in the `_site` subdirectory.\n",
    "\n",
    "\n",
    "## Deploy on gh-pages\n",
    "\n",
    "I'm still looking into that. [This bash scrip](https://github.com/X1011/git-directory-deploy) sounds like a good option.\n"
   ]
  }
 ],
 "metadata": {
  "kernelspec": {
   "display_name": "Python 2",
   "language": "python",
   "name": "python2"
  },
  "language_info": {
   "codemirror_mode": {
    "name": "ipython",
    "version": 2
   },
   "file_extension": ".py",
   "mimetype": "text/x-python",
   "name": "python",
   "nbconvert_exporter": "python",
   "pygments_lexer": "ipython2",
   "version": "2.7.12"
  }
 },
 "nbformat": 4,
 "nbformat_minor": 1
}
