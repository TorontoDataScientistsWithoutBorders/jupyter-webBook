{
 "cells": [
  {
   "cell_type": "markdown",
   "metadata": {
    "collapsed": true
   },
   "source": [
    "# Introduction"
   ]
  },
  {
   "cell_type": "markdown",
   "metadata": {},
   "source": [
    "## What is Jupyter WebBook\n",
    "\n",
    "Jupyter WebBook is a framework that allows you to write web book using Jupyter Notebook. It's inpired from [bookdown](), which itself got inspired by [gitbook]().\n",
    "\n",
    "With Jupyter WebBook, you write each chapter individually as a jupyter notebook, and it helps you compile them into a beautiful looking web book such as the one you're currently browsing.\n",
    "Everything happens on the client side, so that it will takes seconds to deploy as gh-pages, on your own server, or in your dropbox.\n",
    "\n",
    "## Fuctionalities\n",
    "\n",
    "Because each individual chapter is a Jupyter Notebook, you can use all the Jupyter Notebook functionalities as part of your book. For example:\n",
    "- Write and format your text with markdown\n",
    "- Add medias such as images, videos or web maps\n",
    "- Write and execute python code, automagically generating the output\n",
    "- Use kernels of your choice and execute code in various programming languages\n",
    "\n",
    "See the next chapter for more examples."
   ]
  }
 ],
 "metadata": {
  "kernelspec": {
   "display_name": "Python 2",
   "language": "python",
   "name": "python2"
  },
  "language_info": {
   "codemirror_mode": {
    "name": "ipython",
    "version": 2
   },
   "file_extension": ".py",
   "mimetype": "text/x-python",
   "name": "python",
   "nbconvert_exporter": "python",
   "pygments_lexer": "ipython2",
   "version": "2.7.12"
  }
 },
 "nbformat": 4,
 "nbformat_minor": 1
}
